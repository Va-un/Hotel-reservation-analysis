{
  "cells": [
    {
      "cell_type": "markdown",
      "source": [
        "![img.jpg](data:image/jpeg;base64,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)"
      ],
      "metadata": {
        "id": "sVMSIDeEsq6x"
      }
    },
    {
      "cell_type": "markdown",
      "metadata": {
        "id": "rZGXCawM3ipK"
      },
      "source": [
        "# Hotel Reservations\n",
        "We will see that what people have prefferd in the hotel and what services they would like to use and analyse the pattern."
      ]
    },
    {
      "cell_type": "markdown",
      "metadata": {
        "id": "nNFLP_bI3ipL"
      },
      "source": [
        "## Downloading the Dataset\n",
        "\n",
        "We will first load the Csv and convert it to a dataset so that we can work on it."
      ]
    },
    {
      "cell_type": "markdown",
      "metadata": {
        "id": "JHQgRhUn3ipM"
      },
      "source": [
        "Data Dictionary\n",
        "\n",
        "*   Booking_ID: unique identifier of each booking\n",
        "\n",
        "*   no_of_adults: Number of adults\n",
        "\n",
        "*   no_of_children: Number of Children\n",
        "\n",
        "*  no_of_weekend_nights: Number of weekend nights (Saturday or Sunday) the guest stayed or booked to stay at the hotel\n",
        "\n",
        "\n",
        "\n",
        "*   no_of_week_nights: Number of week nights (Monday to Friday) the guest stayed or booked to stay at the hotel\n",
        "\n",
        "\n",
        "*   type_of_meal_plan: Type of meal plan booked by the customer:\n",
        "\n",
        "*   required_car_parking_space: Does the customer require a car parking space? (0 - No, 1- Yes)\n",
        "*   room_type_reserved: Type of room reserved by the customer. The values are ciphered (encoded) by INN Hotels.\n",
        "\n",
        "*   lead_time: Number of days between the date of booking and the arrival date\n",
        "\n",
        "*  arrival_year: Year of arrival date\n",
        "\n",
        "\n",
        "*  arrival_month: Month of arrival date\n",
        "\n",
        "*   arrival_date: Date of the month\n",
        "\n",
        "*   market_segment_type: Market segment designation.\n",
        "\n",
        "*   repeated_guest: Is the customer a repeated guest? (0 - No, 1- Yes)\n",
        "\n",
        "*   no_of_previous_cancellations: Number of previous bookings that were canceled by the customer prior to the current booking\n",
        "\n",
        "\n",
        "*   no_of_previous_bookings_not_canceled: Number of previous bookings not canceled by the customer prior to the current booking\n",
        "\n",
        "*   avg_price_per_room: Average price per day of the reservation; prices of the rooms are dynamic. (in euros)\n",
        "\n",
        "\n",
        "*   booking_status: Flag indicating if the booking was canceled or not.\n",
        "\n",
        "\n",
        "*   no_of_special_requests: Total number of special requests made by the customer (e.g. high floor, view from the room, etc)\n",
        "\n",
        "\n",
        "\n",
        "\n"
      ]
    },
    {
      "cell_type": "code",
      "execution_count": null,
      "metadata": {
        "id": "CSubTsaY3ipN"
      },
      "outputs": [],
      "source": [
        "import pandas as pd\n",
        "import numpy as np"
      ]
    },
    {
      "cell_type": "markdown",
      "metadata": {
        "id": "ppKJS3QO3ipN"
      },
      "source": [
        "The dataset has been downloaded and extracted."
      ]
    },
    {
      "cell_type": "code",
      "execution_count": null,
      "metadata": {
        "colab": {
          "base_uri": "https://localhost:8080/"
        },
        "id": "w7X0Pxbw3ipO",
        "outputId": "2161d5e9-07df-49ea-dcaa-3cb275e180a5"
      },
      "outputs": [
        {
          "output_type": "execute_result",
          "data": {
            "text/plain": [
              "      Booking_ID  no_of_adults  no_of_children  no_of_weekend_nights  \\\n",
              "0       INN00001             2               0                     1   \n",
              "1       INN00002             2               0                     2   \n",
              "2       INN00003             1               0                     2   \n",
              "3       INN00004             2               0                     0   \n",
              "4       INN00005             2               0                     1   \n",
              "...          ...           ...             ...                   ...   \n",
              "36270   INN36271             3               0                     2   \n",
              "36271   INN36272             2               0                     1   \n",
              "36272   INN36273             2               0                     2   \n",
              "36273   INN36274             2               0                     0   \n",
              "36274   INN36275             2               0                     1   \n",
              "\n",
              "       no_of_week_nights type_of_meal_plan  required_car_parking_space  \\\n",
              "0                      2       Meal Plan 1                           0   \n",
              "1                      3      Not Selected                           0   \n",
              "2                      1       Meal Plan 1                           0   \n",
              "3                      2       Meal Plan 1                           0   \n",
              "4                      1      Not Selected                           0   \n",
              "...                  ...               ...                         ...   \n",
              "36270                  6       Meal Plan 1                           0   \n",
              "36271                  3       Meal Plan 1                           0   \n",
              "36272                  6       Meal Plan 1                           0   \n",
              "36273                  3      Not Selected                           0   \n",
              "36274                  2       Meal Plan 1                           0   \n",
              "\n",
              "      room_type_reserved  lead_time  arrival_year  arrival_month  \\\n",
              "0            Room_Type 1        224          2017             10   \n",
              "1            Room_Type 1          5          2018             11   \n",
              "2            Room_Type 1          1          2018              2   \n",
              "3            Room_Type 1        211          2018              5   \n",
              "4            Room_Type 1         48          2018              4   \n",
              "...                  ...        ...           ...            ...   \n",
              "36270        Room_Type 4         85          2018              8   \n",
              "36271        Room_Type 1        228          2018             10   \n",
              "36272        Room_Type 1        148          2018              7   \n",
              "36273        Room_Type 1         63          2018              4   \n",
              "36274        Room_Type 1        207          2018             12   \n",
              "\n",
              "       arrival_date market_segment_type  repeated_guest  \\\n",
              "0                 2             Offline               0   \n",
              "1                 6              Online               0   \n",
              "2                28              Online               0   \n",
              "3                20              Online               0   \n",
              "4                11              Online               0   \n",
              "...             ...                 ...             ...   \n",
              "36270             3              Online               0   \n",
              "36271            17              Online               0   \n",
              "36272             1              Online               0   \n",
              "36273            21              Online               0   \n",
              "36274            30             Offline               0   \n",
              "\n",
              "       no_of_previous_cancellations  no_of_previous_bookings_not_canceled  \\\n",
              "0                                 0                                     0   \n",
              "1                                 0                                     0   \n",
              "2                                 0                                     0   \n",
              "3                                 0                                     0   \n",
              "4                                 0                                     0   \n",
              "...                             ...                                   ...   \n",
              "36270                             0                                     0   \n",
              "36271                             0                                     0   \n",
              "36272                             0                                     0   \n",
              "36273                             0                                     0   \n",
              "36274                             0                                     0   \n",
              "\n",
              "       avg_price_per_room  no_of_special_requests booking_status  \n",
              "0                   65.00                       0   Not_Canceled  \n",
              "1                  106.68                       1   Not_Canceled  \n",
              "2                   60.00                       0       Canceled  \n",
              "3                  100.00                       0       Canceled  \n",
              "4                   94.50                       0       Canceled  \n",
              "...                   ...                     ...            ...  \n",
              "36270              167.80                       1   Not_Canceled  \n",
              "36271               90.95                       2       Canceled  \n",
              "36272               98.39                       2   Not_Canceled  \n",
              "36273               94.50                       0       Canceled  \n",
              "36274              161.67                       0   Not_Canceled  \n",
              "\n",
              "[36275 rows x 19 columns]"
            ],
            "text/html": [
              "\n",
              "  <div id=\"df-7f3d3066-4a55-4105-9c39-8f3273eb758a\">\n",
              "    <div class=\"colab-df-container\">\n",
              "      <div>\n",
              "<style scoped>\n",
              "    .dataframe tbody tr th:only-of-type {\n",
              "        vertical-align: middle;\n",
              "    }\n",
              "\n",
              "    .dataframe tbody tr th {\n",
              "        vertical-align: top;\n",
              "    }\n",
              "\n",
              "    .dataframe thead th {\n",
              "        text-align: right;\n",
              "    }\n",
              "</style>\n",
              "<table border=\"1\" class=\"dataframe\">\n",
              "  <thead>\n",
              "    <tr style=\"text-align: right;\">\n",
              "      <th></th>\n",
              "      <th>Booking_ID</th>\n",
              "      <th>no_of_adults</th>\n",
              "      <th>no_of_children</th>\n",
              "      <th>no_of_weekend_nights</th>\n",
              "      <th>no_of_week_nights</th>\n",
              "      <th>type_of_meal_plan</th>\n",
              "      <th>required_car_parking_space</th>\n",
              "      <th>room_type_reserved</th>\n",
              "      <th>lead_time</th>\n",
              "      <th>arrival_year</th>\n",
              "      <th>arrival_month</th>\n",
              "      <th>arrival_date</th>\n",
              "      <th>market_segment_type</th>\n",
              "      <th>repeated_guest</th>\n",
              "      <th>no_of_previous_cancellations</th>\n",
              "      <th>no_of_previous_bookings_not_canceled</th>\n",
              "      <th>avg_price_per_room</th>\n",
              "      <th>no_of_special_requests</th>\n",
              "      <th>booking_status</th>\n",
              "    </tr>\n",
              "  </thead>\n",
              "  <tbody>\n",
              "    <tr>\n",
              "      <th>0</th>\n",
              "      <td>INN00001</td>\n",
              "      <td>2</td>\n",
              "      <td>0</td>\n",
              "      <td>1</td>\n",
              "      <td>2</td>\n",
              "      <td>Meal Plan 1</td>\n",
              "      <td>0</td>\n",
              "      <td>Room_Type 1</td>\n",
              "      <td>224</td>\n",
              "      <td>2017</td>\n",
              "      <td>10</td>\n",
              "      <td>2</td>\n",
              "      <td>Offline</td>\n",
              "      <td>0</td>\n",
              "      <td>0</td>\n",
              "      <td>0</td>\n",
              "      <td>65.00</td>\n",
              "      <td>0</td>\n",
              "      <td>Not_Canceled</td>\n",
              "    </tr>\n",
              "    <tr>\n",
              "      <th>1</th>\n",
              "      <td>INN00002</td>\n",
              "      <td>2</td>\n",
              "      <td>0</td>\n",
              "      <td>2</td>\n",
              "      <td>3</td>\n",
              "      <td>Not Selected</td>\n",
              "      <td>0</td>\n",
              "      <td>Room_Type 1</td>\n",
              "      <td>5</td>\n",
              "      <td>2018</td>\n",
              "      <td>11</td>\n",
              "      <td>6</td>\n",
              "      <td>Online</td>\n",
              "      <td>0</td>\n",
              "      <td>0</td>\n",
              "      <td>0</td>\n",
              "      <td>106.68</td>\n",
              "      <td>1</td>\n",
              "      <td>Not_Canceled</td>\n",
              "    </tr>\n",
              "    <tr>\n",
              "      <th>2</th>\n",
              "      <td>INN00003</td>\n",
              "      <td>1</td>\n",
              "      <td>0</td>\n",
              "      <td>2</td>\n",
              "      <td>1</td>\n",
              "      <td>Meal Plan 1</td>\n",
              "      <td>0</td>\n",
              "      <td>Room_Type 1</td>\n",
              "      <td>1</td>\n",
              "      <td>2018</td>\n",
              "      <td>2</td>\n",
              "      <td>28</td>\n",
              "      <td>Online</td>\n",
              "      <td>0</td>\n",
              "      <td>0</td>\n",
              "      <td>0</td>\n",
              "      <td>60.00</td>\n",
              "      <td>0</td>\n",
              "      <td>Canceled</td>\n",
              "    </tr>\n",
              "    <tr>\n",
              "      <th>3</th>\n",
              "      <td>INN00004</td>\n",
              "      <td>2</td>\n",
              "      <td>0</td>\n",
              "      <td>0</td>\n",
              "      <td>2</td>\n",
              "      <td>Meal Plan 1</td>\n",
              "      <td>0</td>\n",
              "      <td>Room_Type 1</td>\n",
              "      <td>211</td>\n",
              "      <td>2018</td>\n",
              "      <td>5</td>\n",
              "      <td>20</td>\n",
              "      <td>Online</td>\n",
              "      <td>0</td>\n",
              "      <td>0</td>\n",
              "      <td>0</td>\n",
              "      <td>100.00</td>\n",
              "      <td>0</td>\n",
              "      <td>Canceled</td>\n",
              "    </tr>\n",
              "    <tr>\n",
              "      <th>4</th>\n",
              "      <td>INN00005</td>\n",
              "      <td>2</td>\n",
              "      <td>0</td>\n",
              "      <td>1</td>\n",
              "      <td>1</td>\n",
              "      <td>Not Selected</td>\n",
              "      <td>0</td>\n",
              "      <td>Room_Type 1</td>\n",
              "      <td>48</td>\n",
              "      <td>2018</td>\n",
              "      <td>4</td>\n",
              "      <td>11</td>\n",
              "      <td>Online</td>\n",
              "      <td>0</td>\n",
              "      <td>0</td>\n",
              "      <td>0</td>\n",
              "      <td>94.50</td>\n",
              "      <td>0</td>\n",
              "      <td>Canceled</td>\n",
              "    </tr>\n",
              "    <tr>\n",
              "      <th>...</th>\n",
              "      <td>...</td>\n",
              "      <td>...</td>\n",
              "      <td>...</td>\n",
              "      <td>...</td>\n",
              "      <td>...</td>\n",
              "      <td>...</td>\n",
              "      <td>...</td>\n",
              "      <td>...</td>\n",
              "      <td>...</td>\n",
              "      <td>...</td>\n",
              "      <td>...</td>\n",
              "      <td>...</td>\n",
              "      <td>...</td>\n",
              "      <td>...</td>\n",
              "      <td>...</td>\n",
              "      <td>...</td>\n",
              "      <td>...</td>\n",
              "      <td>...</td>\n",
              "      <td>...</td>\n",
              "    </tr>\n",
              "    <tr>\n",
              "      <th>36270</th>\n",
              "      <td>INN36271</td>\n",
              "      <td>3</td>\n",
              "      <td>0</td>\n",
              "      <td>2</td>\n",
              "      <td>6</td>\n",
              "      <td>Meal Plan 1</td>\n",
              "      <td>0</td>\n",
              "      <td>Room_Type 4</td>\n",
              "      <td>85</td>\n",
              "      <td>2018</td>\n",
              "      <td>8</td>\n",
              "      <td>3</td>\n",
              "      <td>Online</td>\n",
              "      <td>0</td>\n",
              "      <td>0</td>\n",
              "      <td>0</td>\n",
              "      <td>167.80</td>\n",
              "      <td>1</td>\n",
              "      <td>Not_Canceled</td>\n",
              "    </tr>\n",
              "    <tr>\n",
              "      <th>36271</th>\n",
              "      <td>INN36272</td>\n",
              "      <td>2</td>\n",
              "      <td>0</td>\n",
              "      <td>1</td>\n",
              "      <td>3</td>\n",
              "      <td>Meal Plan 1</td>\n",
              "      <td>0</td>\n",
              "      <td>Room_Type 1</td>\n",
              "      <td>228</td>\n",
              "      <td>2018</td>\n",
              "      <td>10</td>\n",
              "      <td>17</td>\n",
              "      <td>Online</td>\n",
              "      <td>0</td>\n",
              "      <td>0</td>\n",
              "      <td>0</td>\n",
              "      <td>90.95</td>\n",
              "      <td>2</td>\n",
              "      <td>Canceled</td>\n",
              "    </tr>\n",
              "    <tr>\n",
              "      <th>36272</th>\n",
              "      <td>INN36273</td>\n",
              "      <td>2</td>\n",
              "      <td>0</td>\n",
              "      <td>2</td>\n",
              "      <td>6</td>\n",
              "      <td>Meal Plan 1</td>\n",
              "      <td>0</td>\n",
              "      <td>Room_Type 1</td>\n",
              "      <td>148</td>\n",
              "      <td>2018</td>\n",
              "      <td>7</td>\n",
              "      <td>1</td>\n",
              "      <td>Online</td>\n",
              "      <td>0</td>\n",
              "      <td>0</td>\n",
              "      <td>0</td>\n",
              "      <td>98.39</td>\n",
              "      <td>2</td>\n",
              "      <td>Not_Canceled</td>\n",
              "    </tr>\n",
              "    <tr>\n",
              "      <th>36273</th>\n",
              "      <td>INN36274</td>\n",
              "      <td>2</td>\n",
              "      <td>0</td>\n",
              "      <td>0</td>\n",
              "      <td>3</td>\n",
              "      <td>Not Selected</td>\n",
              "      <td>0</td>\n",
              "      <td>Room_Type 1</td>\n",
              "      <td>63</td>\n",
              "      <td>2018</td>\n",
              "      <td>4</td>\n",
              "      <td>21</td>\n",
              "      <td>Online</td>\n",
              "      <td>0</td>\n",
              "      <td>0</td>\n",
              "      <td>0</td>\n",
              "      <td>94.50</td>\n",
              "      <td>0</td>\n",
              "      <td>Canceled</td>\n",
              "    </tr>\n",
              "    <tr>\n",
              "      <th>36274</th>\n",
              "      <td>INN36275</td>\n",
              "      <td>2</td>\n",
              "      <td>0</td>\n",
              "      <td>1</td>\n",
              "      <td>2</td>\n",
              "      <td>Meal Plan 1</td>\n",
              "      <td>0</td>\n",
              "      <td>Room_Type 1</td>\n",
              "      <td>207</td>\n",
              "      <td>2018</td>\n",
              "      <td>12</td>\n",
              "      <td>30</td>\n",
              "      <td>Offline</td>\n",
              "      <td>0</td>\n",
              "      <td>0</td>\n",
              "      <td>0</td>\n",
              "      <td>161.67</td>\n",
              "      <td>0</td>\n",
              "      <td>Not_Canceled</td>\n",
              "    </tr>\n",
              "  </tbody>\n",
              "</table>\n",
              "<p>36275 rows × 19 columns</p>\n",
              "</div>\n",
              "      <button class=\"colab-df-convert\" onclick=\"convertToInteractive('df-7f3d3066-4a55-4105-9c39-8f3273eb758a')\"\n",
              "              title=\"Convert this dataframe to an interactive table.\"\n",
              "              style=\"display:none;\">\n",
              "        \n",
              "  <svg xmlns=\"http://www.w3.org/2000/svg\" height=\"24px\"viewBox=\"0 0 24 24\"\n",
              "       width=\"24px\">\n",
              "    <path d=\"M0 0h24v24H0V0z\" fill=\"none\"/>\n",
              "    <path d=\"M18.56 5.44l.94 2.06.94-2.06 2.06-.94-2.06-.94-.94-2.06-.94 2.06-2.06.94zm-11 1L8.5 8.5l.94-2.06 2.06-.94-2.06-.94L8.5 2.5l-.94 2.06-2.06.94zm10 10l.94 2.06.94-2.06 2.06-.94-2.06-.94-.94-2.06-.94 2.06-2.06.94z\"/><path d=\"M17.41 7.96l-1.37-1.37c-.4-.4-.92-.59-1.43-.59-.52 0-1.04.2-1.43.59L10.3 9.45l-7.72 7.72c-.78.78-.78 2.05 0 2.83L4 21.41c.39.39.9.59 1.41.59.51 0 1.02-.2 1.41-.59l7.78-7.78 2.81-2.81c.8-.78.8-2.07 0-2.86zM5.41 20L4 18.59l7.72-7.72 1.47 1.35L5.41 20z\"/>\n",
              "  </svg>\n",
              "      </button>\n",
              "      \n",
              "  <style>\n",
              "    .colab-df-container {\n",
              "      display:flex;\n",
              "      flex-wrap:wrap;\n",
              "      gap: 12px;\n",
              "    }\n",
              "\n",
              "    .colab-df-convert {\n",
              "      background-color: #E8F0FE;\n",
              "      border: none;\n",
              "      border-radius: 50%;\n",
              "      cursor: pointer;\n",
              "      display: none;\n",
              "      fill: #1967D2;\n",
              "      height: 32px;\n",
              "      padding: 0 0 0 0;\n",
              "      width: 32px;\n",
              "    }\n",
              "\n",
              "    .colab-df-convert:hover {\n",
              "      background-color: #E2EBFA;\n",
              "      box-shadow: 0px 1px 2px rgba(60, 64, 67, 0.3), 0px 1px 3px 1px rgba(60, 64, 67, 0.15);\n",
              "      fill: #174EA6;\n",
              "    }\n",
              "\n",
              "    [theme=dark] .colab-df-convert {\n",
              "      background-color: #3B4455;\n",
              "      fill: #D2E3FC;\n",
              "    }\n",
              "\n",
              "    [theme=dark] .colab-df-convert:hover {\n",
              "      background-color: #434B5C;\n",
              "      box-shadow: 0px 1px 3px 1px rgba(0, 0, 0, 0.15);\n",
              "      filter: drop-shadow(0px 1px 2px rgba(0, 0, 0, 0.3));\n",
              "      fill: #FFFFFF;\n",
              "    }\n",
              "  </style>\n",
              "\n",
              "      <script>\n",
              "        const buttonEl =\n",
              "          document.querySelector('#df-7f3d3066-4a55-4105-9c39-8f3273eb758a button.colab-df-convert');\n",
              "        buttonEl.style.display =\n",
              "          google.colab.kernel.accessAllowed ? 'block' : 'none';\n",
              "\n",
              "        async function convertToInteractive(key) {\n",
              "          const element = document.querySelector('#df-7f3d3066-4a55-4105-9c39-8f3273eb758a');\n",
              "          const dataTable =\n",
              "            await google.colab.kernel.invokeFunction('convertToInteractive',\n",
              "                                                     [key], {});\n",
              "          if (!dataTable) return;\n",
              "\n",
              "          const docLinkHtml = 'Like what you see? Visit the ' +\n",
              "            '<a target=\"_blank\" href=https://colab.research.google.com/notebooks/data_table.ipynb>data table notebook</a>'\n",
              "            + ' to learn more about interactive tables.';\n",
              "          element.innerHTML = '';\n",
              "          dataTable['output_type'] = 'display_data';\n",
              "          await google.colab.output.renderOutput(dataTable, element);\n",
              "          const docLink = document.createElement('div');\n",
              "          docLink.innerHTML = docLinkHtml;\n",
              "          element.appendChild(docLink);\n",
              "        }\n",
              "      </script>\n",
              "    </div>\n",
              "  </div>\n",
              "  "
            ]
          },
          "metadata": {},
          "execution_count": 51
        }
      ],
      "source": [
        "df = pd.read_csv(\"Hotel.csv\")\n",
        "df"
      ]
    },
    {
      "cell_type": "markdown",
      "metadata": {
        "id": "NmqNuWLy3ipO"
      },
      "source": [
        "Let us save and upload our work to Jovian before continuing."
      ]
    },
    {
      "cell_type": "markdown",
      "metadata": {
        "id": "gBoSv2BL3ipP"
      },
      "source": [
        "## Data Preparation and Cleaning\n",
        "\n",
        "The taken data is clean and there is no cleaning required \n"
      ]
    },
    {
      "cell_type": "code",
      "execution_count": null,
      "metadata": {
        "colab": {
          "base_uri": "https://localhost:8080/"
        },
        "id": "c4iNtcjT3ipP",
        "outputId": "85026917-129c-4863-c333-e10c3ccc329e"
      },
      "outputs": [
        {
          "output_type": "stream",
          "name": "stdout",
          "text": [
            "<class 'pandas.core.frame.DataFrame'>\n",
            "RangeIndex: 36275 entries, 0 to 36274\n",
            "Data columns (total 19 columns):\n",
            " #   Column                                Non-Null Count  Dtype  \n",
            "---  ------                                --------------  -----  \n",
            " 0   Booking_ID                            36275 non-null  object \n",
            " 1   no_of_adults                          36275 non-null  int64  \n",
            " 2   no_of_children                        36275 non-null  int64  \n",
            " 3   no_of_weekend_nights                  36275 non-null  int64  \n",
            " 4   no_of_week_nights                     36275 non-null  int64  \n",
            " 5   type_of_meal_plan                     36275 non-null  object \n",
            " 6   required_car_parking_space            36275 non-null  int64  \n",
            " 7   room_type_reserved                    36275 non-null  object \n",
            " 8   lead_time                             36275 non-null  int64  \n",
            " 9   arrival_year                          36275 non-null  int64  \n",
            " 10  arrival_month                         36275 non-null  int64  \n",
            " 11  arrival_date                          36275 non-null  int64  \n",
            " 12  market_segment_type                   36275 non-null  object \n",
            " 13  repeated_guest                        36275 non-null  int64  \n",
            " 14  no_of_previous_cancellations          36275 non-null  int64  \n",
            " 15  no_of_previous_bookings_not_canceled  36275 non-null  int64  \n",
            " 16  avg_price_per_room                    36275 non-null  float64\n",
            " 17  no_of_special_requests                36275 non-null  int64  \n",
            " 18  booking_status                        36275 non-null  object \n",
            "dtypes: float64(1), int64(13), object(5)\n",
            "memory usage: 5.3+ MB\n"
          ]
        }
      ],
      "source": [
        "df.info()"
      ]
    },
    {
      "cell_type": "markdown",
      "source": [
        "We are getting a general idea that this file has 19 coumns having non null values and we can also see there respective data type"
      ],
      "metadata": {
        "id": "w6r-QZbV6z9N"
      }
    },
    {
      "cell_type": "code",
      "execution_count": null,
      "metadata": {
        "colab": {
          "base_uri": "https://localhost:8080/"
        },
        "id": "9WB27zJf3ipP",
        "outputId": "e68b0d8d-6126-4609-bcd8-cb7b6b8acb19"
      },
      "outputs": [
        {
          "output_type": "execute_result",
          "data": {
            "text/plain": [
              "Booking_ID                              0\n",
              "no_of_adults                            0\n",
              "no_of_children                          0\n",
              "no_of_weekend_nights                    0\n",
              "no_of_week_nights                       0\n",
              "type_of_meal_plan                       0\n",
              "required_car_parking_space              0\n",
              "room_type_reserved                      0\n",
              "lead_time                               0\n",
              "arrival_year                            0\n",
              "arrival_month                           0\n",
              "arrival_date                            0\n",
              "market_segment_type                     0\n",
              "repeated_guest                          0\n",
              "no_of_previous_cancellations            0\n",
              "no_of_previous_bookings_not_canceled    0\n",
              "avg_price_per_room                      0\n",
              "no_of_special_requests                  0\n",
              "booking_status                          0\n",
              "dtype: int64"
            ]
          },
          "metadata": {},
          "execution_count": 53
        }
      ],
      "source": [
        "df[df.isnull() == True].count()"
      ]
    },
    {
      "cell_type": "markdown",
      "source": [
        "We can see there are zero null values so the data is clean"
      ],
      "metadata": {
        "id": "pb2KO_zq7n8P"
      }
    },
    {
      "cell_type": "code",
      "execution_count": null,
      "metadata": {
        "colab": {
          "base_uri": "https://localhost:8080/"
        },
        "id": "LLe3Nkrk3ipP",
        "outputId": "bb0c4854-fa5d-4b1a-ab07-5767a5044755"
      },
      "outputs": [
        {
          "output_type": "execute_result",
          "data": {
            "text/plain": [
              "       no_of_adults  no_of_children  no_of_weekend_nights  no_of_week_nights  \\\n",
              "count  36275.000000    36275.000000          36275.000000       36275.000000   \n",
              "mean       1.844962        0.105279              0.810724           2.204300   \n",
              "std        0.518715        0.402648              0.870644           1.410905   \n",
              "min        0.000000        0.000000              0.000000           0.000000   \n",
              "25%        2.000000        0.000000              0.000000           1.000000   \n",
              "50%        2.000000        0.000000              1.000000           2.000000   \n",
              "75%        2.000000        0.000000              2.000000           3.000000   \n",
              "max        4.000000       10.000000              7.000000          17.000000   \n",
              "\n",
              "       required_car_parking_space     lead_time  arrival_year  arrival_month  \\\n",
              "count                36275.000000  36275.000000  36275.000000   36275.000000   \n",
              "mean                     0.030986     85.232557   2017.820427       7.423653   \n",
              "std                      0.173281     85.930817      0.383836       3.069894   \n",
              "min                      0.000000      0.000000   2017.000000       1.000000   \n",
              "25%                      0.000000     17.000000   2018.000000       5.000000   \n",
              "50%                      0.000000     57.000000   2018.000000       8.000000   \n",
              "75%                      0.000000    126.000000   2018.000000      10.000000   \n",
              "max                      1.000000    443.000000   2018.000000      12.000000   \n",
              "\n",
              "       arrival_date  repeated_guest  no_of_previous_cancellations  \\\n",
              "count  36275.000000    36275.000000                  36275.000000   \n",
              "mean      15.596995        0.025637                      0.023349   \n",
              "std        8.740447        0.158053                      0.368331   \n",
              "min        1.000000        0.000000                      0.000000   \n",
              "25%        8.000000        0.000000                      0.000000   \n",
              "50%       16.000000        0.000000                      0.000000   \n",
              "75%       23.000000        0.000000                      0.000000   \n",
              "max       31.000000        1.000000                     13.000000   \n",
              "\n",
              "       no_of_previous_bookings_not_canceled  avg_price_per_room  \\\n",
              "count                          36275.000000        36275.000000   \n",
              "mean                               0.153411          103.423539   \n",
              "std                                1.754171           35.089424   \n",
              "min                                0.000000            0.000000   \n",
              "25%                                0.000000           80.300000   \n",
              "50%                                0.000000           99.450000   \n",
              "75%                                0.000000          120.000000   \n",
              "max                               58.000000          540.000000   \n",
              "\n",
              "       no_of_special_requests  \n",
              "count            36275.000000  \n",
              "mean                 0.619655  \n",
              "std                  0.786236  \n",
              "min                  0.000000  \n",
              "25%                  0.000000  \n",
              "50%                  0.000000  \n",
              "75%                  1.000000  \n",
              "max                  5.000000  "
            ],
            "text/html": [
              "\n",
              "  <div id=\"df-d8d5aa4d-6378-4045-8b8e-9dea13e9daf5\">\n",
              "    <div class=\"colab-df-container\">\n",
              "      <div>\n",
              "<style scoped>\n",
              "    .dataframe tbody tr th:only-of-type {\n",
              "        vertical-align: middle;\n",
              "    }\n",
              "\n",
              "    .dataframe tbody tr th {\n",
              "        vertical-align: top;\n",
              "    }\n",
              "\n",
              "    .dataframe thead th {\n",
              "        text-align: right;\n",
              "    }\n",
              "</style>\n",
              "<table border=\"1\" class=\"dataframe\">\n",
              "  <thead>\n",
              "    <tr style=\"text-align: right;\">\n",
              "      <th></th>\n",
              "      <th>no_of_adults</th>\n",
              "      <th>no_of_children</th>\n",
              "      <th>no_of_weekend_nights</th>\n",
              "      <th>no_of_week_nights</th>\n",
              "      <th>required_car_parking_space</th>\n",
              "      <th>lead_time</th>\n",
              "      <th>arrival_year</th>\n",
              "      <th>arrival_month</th>\n",
              "      <th>arrival_date</th>\n",
              "      <th>repeated_guest</th>\n",
              "      <th>no_of_previous_cancellations</th>\n",
              "      <th>no_of_previous_bookings_not_canceled</th>\n",
              "      <th>avg_price_per_room</th>\n",
              "      <th>no_of_special_requests</th>\n",
              "    </tr>\n",
              "  </thead>\n",
              "  <tbody>\n",
              "    <tr>\n",
              "      <th>count</th>\n",
              "      <td>36275.000000</td>\n",
              "      <td>36275.000000</td>\n",
              "      <td>36275.000000</td>\n",
              "      <td>36275.000000</td>\n",
              "      <td>36275.000000</td>\n",
              "      <td>36275.000000</td>\n",
              "      <td>36275.000000</td>\n",
              "      <td>36275.000000</td>\n",
              "      <td>36275.000000</td>\n",
              "      <td>36275.000000</td>\n",
              "      <td>36275.000000</td>\n",
              "      <td>36275.000000</td>\n",
              "      <td>36275.000000</td>\n",
              "      <td>36275.000000</td>\n",
              "    </tr>\n",
              "    <tr>\n",
              "      <th>mean</th>\n",
              "      <td>1.844962</td>\n",
              "      <td>0.105279</td>\n",
              "      <td>0.810724</td>\n",
              "      <td>2.204300</td>\n",
              "      <td>0.030986</td>\n",
              "      <td>85.232557</td>\n",
              "      <td>2017.820427</td>\n",
              "      <td>7.423653</td>\n",
              "      <td>15.596995</td>\n",
              "      <td>0.025637</td>\n",
              "      <td>0.023349</td>\n",
              "      <td>0.153411</td>\n",
              "      <td>103.423539</td>\n",
              "      <td>0.619655</td>\n",
              "    </tr>\n",
              "    <tr>\n",
              "      <th>std</th>\n",
              "      <td>0.518715</td>\n",
              "      <td>0.402648</td>\n",
              "      <td>0.870644</td>\n",
              "      <td>1.410905</td>\n",
              "      <td>0.173281</td>\n",
              "      <td>85.930817</td>\n",
              "      <td>0.383836</td>\n",
              "      <td>3.069894</td>\n",
              "      <td>8.740447</td>\n",
              "      <td>0.158053</td>\n",
              "      <td>0.368331</td>\n",
              "      <td>1.754171</td>\n",
              "      <td>35.089424</td>\n",
              "      <td>0.786236</td>\n",
              "    </tr>\n",
              "    <tr>\n",
              "      <th>min</th>\n",
              "      <td>0.000000</td>\n",
              "      <td>0.000000</td>\n",
              "      <td>0.000000</td>\n",
              "      <td>0.000000</td>\n",
              "      <td>0.000000</td>\n",
              "      <td>0.000000</td>\n",
              "      <td>2017.000000</td>\n",
              "      <td>1.000000</td>\n",
              "      <td>1.000000</td>\n",
              "      <td>0.000000</td>\n",
              "      <td>0.000000</td>\n",
              "      <td>0.000000</td>\n",
              "      <td>0.000000</td>\n",
              "      <td>0.000000</td>\n",
              "    </tr>\n",
              "    <tr>\n",
              "      <th>25%</th>\n",
              "      <td>2.000000</td>\n",
              "      <td>0.000000</td>\n",
              "      <td>0.000000</td>\n",
              "      <td>1.000000</td>\n",
              "      <td>0.000000</td>\n",
              "      <td>17.000000</td>\n",
              "      <td>2018.000000</td>\n",
              "      <td>5.000000</td>\n",
              "      <td>8.000000</td>\n",
              "      <td>0.000000</td>\n",
              "      <td>0.000000</td>\n",
              "      <td>0.000000</td>\n",
              "      <td>80.300000</td>\n",
              "      <td>0.000000</td>\n",
              "    </tr>\n",
              "    <tr>\n",
              "      <th>50%</th>\n",
              "      <td>2.000000</td>\n",
              "      <td>0.000000</td>\n",
              "      <td>1.000000</td>\n",
              "      <td>2.000000</td>\n",
              "      <td>0.000000</td>\n",
              "      <td>57.000000</td>\n",
              "      <td>2018.000000</td>\n",
              "      <td>8.000000</td>\n",
              "      <td>16.000000</td>\n",
              "      <td>0.000000</td>\n",
              "      <td>0.000000</td>\n",
              "      <td>0.000000</td>\n",
              "      <td>99.450000</td>\n",
              "      <td>0.000000</td>\n",
              "    </tr>\n",
              "    <tr>\n",
              "      <th>75%</th>\n",
              "      <td>2.000000</td>\n",
              "      <td>0.000000</td>\n",
              "      <td>2.000000</td>\n",
              "      <td>3.000000</td>\n",
              "      <td>0.000000</td>\n",
              "      <td>126.000000</td>\n",
              "      <td>2018.000000</td>\n",
              "      <td>10.000000</td>\n",
              "      <td>23.000000</td>\n",
              "      <td>0.000000</td>\n",
              "      <td>0.000000</td>\n",
              "      <td>0.000000</td>\n",
              "      <td>120.000000</td>\n",
              "      <td>1.000000</td>\n",
              "    </tr>\n",
              "    <tr>\n",
              "      <th>max</th>\n",
              "      <td>4.000000</td>\n",
              "      <td>10.000000</td>\n",
              "      <td>7.000000</td>\n",
              "      <td>17.000000</td>\n",
              "      <td>1.000000</td>\n",
              "      <td>443.000000</td>\n",
              "      <td>2018.000000</td>\n",
              "      <td>12.000000</td>\n",
              "      <td>31.000000</td>\n",
              "      <td>1.000000</td>\n",
              "      <td>13.000000</td>\n",
              "      <td>58.000000</td>\n",
              "      <td>540.000000</td>\n",
              "      <td>5.000000</td>\n",
              "    </tr>\n",
              "  </tbody>\n",
              "</table>\n",
              "</div>\n",
              "      <button class=\"colab-df-convert\" onclick=\"convertToInteractive('df-d8d5aa4d-6378-4045-8b8e-9dea13e9daf5')\"\n",
              "              title=\"Convert this dataframe to an interactive table.\"\n",
              "              style=\"display:none;\">\n",
              "        \n",
              "  <svg xmlns=\"http://www.w3.org/2000/svg\" height=\"24px\"viewBox=\"0 0 24 24\"\n",
              "       width=\"24px\">\n",
              "    <path d=\"M0 0h24v24H0V0z\" fill=\"none\"/>\n",
              "    <path d=\"M18.56 5.44l.94 2.06.94-2.06 2.06-.94-2.06-.94-.94-2.06-.94 2.06-2.06.94zm-11 1L8.5 8.5l.94-2.06 2.06-.94-2.06-.94L8.5 2.5l-.94 2.06-2.06.94zm10 10l.94 2.06.94-2.06 2.06-.94-2.06-.94-.94-2.06-.94 2.06-2.06.94z\"/><path d=\"M17.41 7.96l-1.37-1.37c-.4-.4-.92-.59-1.43-.59-.52 0-1.04.2-1.43.59L10.3 9.45l-7.72 7.72c-.78.78-.78 2.05 0 2.83L4 21.41c.39.39.9.59 1.41.59.51 0 1.02-.2 1.41-.59l7.78-7.78 2.81-2.81c.8-.78.8-2.07 0-2.86zM5.41 20L4 18.59l7.72-7.72 1.47 1.35L5.41 20z\"/>\n",
              "  </svg>\n",
              "      </button>\n",
              "      \n",
              "  <style>\n",
              "    .colab-df-container {\n",
              "      display:flex;\n",
              "      flex-wrap:wrap;\n",
              "      gap: 12px;\n",
              "    }\n",
              "\n",
              "    .colab-df-convert {\n",
              "      background-color: #E8F0FE;\n",
              "      border: none;\n",
              "      border-radius: 50%;\n",
              "      cursor: pointer;\n",
              "      display: none;\n",
              "      fill: #1967D2;\n",
              "      height: 32px;\n",
              "      padding: 0 0 0 0;\n",
              "      width: 32px;\n",
              "    }\n",
              "\n",
              "    .colab-df-convert:hover {\n",
              "      background-color: #E2EBFA;\n",
              "      box-shadow: 0px 1px 2px rgba(60, 64, 67, 0.3), 0px 1px 3px 1px rgba(60, 64, 67, 0.15);\n",
              "      fill: #174EA6;\n",
              "    }\n",
              "\n",
              "    [theme=dark] .colab-df-convert {\n",
              "      background-color: #3B4455;\n",
              "      fill: #D2E3FC;\n",
              "    }\n",
              "\n",
              "    [theme=dark] .colab-df-convert:hover {\n",
              "      background-color: #434B5C;\n",
              "      box-shadow: 0px 1px 3px 1px rgba(0, 0, 0, 0.15);\n",
              "      filter: drop-shadow(0px 1px 2px rgba(0, 0, 0, 0.3));\n",
              "      fill: #FFFFFF;\n",
              "    }\n",
              "  </style>\n",
              "\n",
              "      <script>\n",
              "        const buttonEl =\n",
              "          document.querySelector('#df-d8d5aa4d-6378-4045-8b8e-9dea13e9daf5 button.colab-df-convert');\n",
              "        buttonEl.style.display =\n",
              "          google.colab.kernel.accessAllowed ? 'block' : 'none';\n",
              "\n",
              "        async function convertToInteractive(key) {\n",
              "          const element = document.querySelector('#df-d8d5aa4d-6378-4045-8b8e-9dea13e9daf5');\n",
              "          const dataTable =\n",
              "            await google.colab.kernel.invokeFunction('convertToInteractive',\n",
              "                                                     [key], {});\n",
              "          if (!dataTable) return;\n",
              "\n",
              "          const docLinkHtml = 'Like what you see? Visit the ' +\n",
              "            '<a target=\"_blank\" href=https://colab.research.google.com/notebooks/data_table.ipynb>data table notebook</a>'\n",
              "            + ' to learn more about interactive tables.';\n",
              "          element.innerHTML = '';\n",
              "          dataTable['output_type'] = 'display_data';\n",
              "          await google.colab.output.renderOutput(dataTable, element);\n",
              "          const docLink = document.createElement('div');\n",
              "          docLink.innerHTML = docLinkHtml;\n",
              "          element.appendChild(docLink);\n",
              "        }\n",
              "      </script>\n",
              "    </div>\n",
              "  </div>\n",
              "  "
            ]
          },
          "metadata": {},
          "execution_count": 54
        }
      ],
      "source": [
        "df.describe()"
      ]
    },
    {
      "cell_type": "markdown",
      "source": [
        "Looking at the above table we are getting some general idea about the table which is as follows-\n",
        "*  At average almost we can say 2 people book the hotel and 0 childern book the hotel.\n",
        "\n",
        "*   Hotels are more likely to be booked on  week nights\n",
        "*   All dont require parking space.\n",
        "\n",
        "\n",
        "*  Max adult booking is 4 && Max Childern is 10\n",
        "\n",
        "\n",
        "\n",
        "\n",
        "\n",
        "\n"
      ],
      "metadata": {
        "id": "BBKUwBGn8YCs"
      }
    },
    {
      "cell_type": "code",
      "source": [
        "df[\"family_size\"] =  df.no_of_adults + df.no_of_children\n",
        "df[\"family_size\"].value_counts()"
      ],
      "metadata": {
        "colab": {
          "base_uri": "https://localhost:8080/"
        },
        "id": "6qgaFAbMnWz3",
        "outputId": "e750c931-b7d7-4caf-ec72-8e0abb5e7aef"
      },
      "execution_count": null,
      "outputs": [
        {
          "output_type": "execute_result",
          "data": {
            "text/plain": [
              "2     23942\n",
              "1      7552\n",
              "3      3851\n",
              "4       912\n",
              "5        15\n",
              "12        1\n",
              "10        1\n",
              "11        1\n",
              "Name: family_size, dtype: int64"
            ]
          },
          "metadata": {},
          "execution_count": 55
        }
      ]
    },
    {
      "cell_type": "markdown",
      "source": [
        "Now since our data is clean let us move to next phase of analyse the data.\n"
      ],
      "metadata": {
        "id": "GdBTdal08GJ1"
      }
    },
    {
      "cell_type": "markdown",
      "metadata": {
        "id": "mZP41Op33ipQ"
      },
      "source": [
        "## Exploratory Analysis and Visualization\n",
        "\n",
        "With use of graph let us analyse the data.\n",
        "\n"
      ]
    },
    {
      "cell_type": "markdown",
      "metadata": {
        "id": "ZpgCyA8I3ipQ"
      },
      "source": [
        "Let's begin by importing`matplotlib.pyplot` and `seaborn`."
      ]
    },
    {
      "cell_type": "code",
      "execution_count": null,
      "metadata": {
        "id": "SyULRnC_3ipQ"
      },
      "outputs": [],
      "source": [
        "import seaborn as sns\n",
        "import matplotlib\n",
        "import matplotlib.pyplot as plt\n",
        "%matplotlib inline\n",
        "\n",
        "sns.set_style('darkgrid')\n"
      ]
    },
    {
      "cell_type": "code",
      "execution_count": null,
      "metadata": {
        "colab": {
          "base_uri": "https://localhost:8080/"
        },
        "id": "109OxUki3ipQ",
        "outputId": "db8fdbfc-2cd3-49ce-d2ba-8d22af196d97"
      },
      "outputs": [
        {
          "output_type": "execute_result",
          "data": {
            "text/plain": [
              "Text(0.5, 1.0, 'Meal Plans\\n')"
            ]
          },
          "metadata": {},
          "execution_count": 57
        },
        {
          "output_type": "display_data",
          "data": {
            "text/plain": [
              "<Figure size 432x288 with 1 Axes>"
            ],
            "image/png": "[encoded data removed]"
          },
          "metadata": {}
        }
      ],
      "source": [
        "a = df.type_of_meal_plan.value_counts()\n",
        "total = df.type_of_meal_plan.count()\n",
        "plt.pie(a, labels = ['Meal Plan 1','Not Selected','Meal Plan 2','Meal Plan 3'],autopct='%.0f%%')\n",
        "plt.title(\"Meal Plans\\n\" , fontname=\"Times New Roman\", size=20,fontweight=\"bold\")"
      ]
    },
    {
      "cell_type": "markdown",
      "source": [
        "\n",
        "\n",
        "*   We are able to see that a huge about 77% of people prefer meal plan 1.\n",
        "*   Meal plan 1> no meal>meal plan 2 > meal plan3\n",
        "\n",
        "\n",
        "\n"
      ],
      "metadata": {
        "id": "IQzsZoUPFons"
      }
    },
    {
      "cell_type": "code",
      "execution_count": null,
      "metadata": {
        "colab": {
          "base_uri": "https://localhost:8080/"
        },
        "id": "H2CzYs4D3ipQ",
        "outputId": "1f39b492-f3fc-4328-96d8-f4e01fe354c1"
      },
      "outputs": [
        {
          "output_type": "execute_result",
          "data": {
            "text/plain": [
              "Text(0.5, 1.0, 'People arriving at weekdays')"
            ]
          },
          "metadata": {},
          "execution_count": 58
        },
        {
          "output_type": "display_data",
          "data": {
            "text/plain": [
              "<Figure size 427.25x360 with 1 Axes>"
            ],
            "image/png": "[encoded data removed]"
          },
          "metadata": {}
        },
        {
          "output_type": "display_data",
          "data": {
            "text/plain": [
              "<Figure size 427.25x360 with 1 Axes>"
            ],
            "image/png": "[encoded data removed]"
          },
          "metadata": {}
        }
      ],
      "source": [
        "x1 = df.no_of_weekend_nights\n",
        "x2 = df.no_of_week_nights\n",
        "sns.displot(x =x1,kde=False, hue = df['arrival_year'] , palette = 'Set1', data=df)\n",
        "plt.xlabel('No of weekend nights')\n",
        "plt.ylabel('People arrived')\n",
        "plt.title(\"People arriving at weekends\", fontname=\"Times New Roman\", size=20,fontweight=\"bold\")\n",
        "\n",
        "sns.displot(x =x2,kde=False,\n",
        "hue = df['arrival_year'] , palette = 'Set1', data=df)\n",
        "plt.xlabel('No of week nights')\n",
        "plt.ylabel('No of People arrived')\n",
        "plt.title(\"People arriving at weekdays\", fontname=\"Times New Roman\", size=20,fontweight=\"bold\")"
      ]
    },
    {
      "cell_type": "markdown",
      "source": [
        "Insights-\n",
        "\n",
        "*   We can say that majority of people come week nights and usually stay for about 2 days as it has maximum booking of 8.6k\n",
        "*   People staying for weekend is 8.2k\n",
        "\n",
        "\n",
        "\n",
        "\n"
      ],
      "metadata": {
        "id": "ptH_yRR3Gwkt"
      }
    },
    {
      "cell_type": "code",
      "execution_count": null,
      "metadata": {
        "colab": {
          "base_uri": "https://localhost:8080/"
        },
        "id": "20qxWWDF3ipR",
        "outputId": "82ded3e0-f5ff-4540-d0ff-2428935562c4"
      },
      "outputs": [
        {
          "output_type": "execute_result",
          "data": {
            "text/plain": [
              "Text(0.5, 1.0, 'Adults acoompanied by  childern ')"
            ]
          },
          "metadata": {},
          "execution_count": 59
        },
        {
          "output_type": "display_data",
          "data": {
            "text/plain": [
              "<Figure size 432x288 with 1 Axes>"
            ],
            "image/png": "[encoded data removed]"
          },
          "metadata": {}
        }
      ],
      "source": [
        "x= df.no_of_adults\n",
        "y= df.no_of_children\n",
        "plt.scatter(x,y)\n",
        "plt.xlabel('No of adults')\n",
        "plt.ylabel('No of children')\n",
        "plt.title(\"Adults acoompanied by  childern \", fontname=\"Times New Roman\", size=20,fontweight=\"bold\")"
      ]
    },
    {
      "cell_type": "markdown",
      "source": [
        "From Above data we can say that at an average 2 people book the hotel and number of childern usually  varies from 0 - 2"
      ],
      "metadata": {
        "id": "kxldX_-GOB10"
      }
    },
    {
      "cell_type": "code",
      "execution_count": null,
      "metadata": {
        "id": "VInonha03ipR",
        "colab": {
          "base_uri": "https://localhost:8080/"
        },
        "outputId": "fa4b40c0-0ae6-4f53-cc5e-15a86e45b243"
      },
      "outputs": [
        {
          "output_type": "execute_result",
          "data": {
            "text/plain": [
              "Text(0.5, 1.0, 'Booking done for each room type')"
            ]
          },
          "metadata": {},
          "execution_count": 60
        },
        {
          "output_type": "display_data",
          "data": {
            "text/plain": [
              "<Figure size 432x288 with 1 Axes>"
            ],
            "image/png": "[encoded data removed]"
          },
          "metadata": {}
        }
      ],
      "source": [
        "X = df.room_type_reserved.value_counts()\n",
        "Y = ['Room_Type 1','Room_Type 4','Room_Type 6','Room_Type 2','Room_Type 5','Room_Type 7','Room_Type 3']\n",
        "plt.barh(Y,X,color = 'g')\n",
        "plt.xlabel('Room Type')\n",
        "plt.ylabel('No of people')\n",
        "plt.title(\"Booking done for each room type\", fontname=\"Times New Roman\", size=20,fontweight=\"bold\")"
      ]
    },
    {
      "cell_type": "markdown",
      "source": [
        "\n",
        "\n",
        "1.   We can see that most of the people prefer room type 1 having number of people booked over 35k\n",
        "2.  Least booked is room type 3\n",
        "\n"
      ],
      "metadata": {
        "id": "p6uT49BeLwyb"
      }
    },
    {
      "cell_type": "code",
      "execution_count": null,
      "metadata": {
        "id": "ly-QWKQC3ipR",
        "colab": {
          "base_uri": "https://localhost:8080/"
        },
        "outputId": "65a47de8-7f96-4c78-a8eb-ad506aa4deb3"
      },
      "outputs": [
        {
          "output_type": "stream",
          "name": "stderr",
          "text": [
            "/usr/local/lib/python3.8/dist-packages/seaborn/_decorators.py:36: FutureWarning: Pass the following variables as keyword args: x, y. From version 0.12, the only valid positional argument will be `data`, and passing other arguments without an explicit keyword will result in an error or misinterpretation.\n",
            "  warnings.warn(\n"
          ]
        },
        {
          "output_type": "execute_result",
          "data": {
            "text/plain": [
              "Text(0.5, 1.0, 'Cost per room type for each year')"
            ]
          },
          "metadata": {},
          "execution_count": 61
        },
        {
          "output_type": "display_data",
          "data": {
            "text/plain": [
              "<Figure size 432x288 with 1 Axes>"
            ],
            "image/png": "[encoded data removed]"
          },
          "metadata": {}
        }
      ],
      "source": [
        "x =df.avg_price_per_room\n",
        "y =df.room_type_reserved\n",
        "z= df.arrival_year\n",
        "sns.barplot(x,y,ci=0,hue =z)\n",
        "plt.xlabel('Avg price per room')\n",
        "plt.ylabel('Room type reserved')\n",
        "plt.title(\"Cost per room type for each year\", fontname=\"Times New Roman\", size=20,fontweight=\"bold\")"
      ]
    },
    {
      "cell_type": "markdown",
      "source": [
        "We can clearly see there is an inflation in the cost of the rooms in a year span and room type 3 cost has highly increased allmost by 80%"
      ],
      "metadata": {
        "id": "BU1MpQJjSaYn"
      }
    },
    {
      "cell_type": "code",
      "execution_count": null,
      "metadata": {
        "id": "5iPPa5ky3ipR",
        "colab": {
          "base_uri": "https://localhost:8080/"
        },
        "outputId": "66f5f3b2-fc45-4994-f0af-0a424afe3328"
      },
      "outputs": [
        {
          "output_type": "execute_result",
          "data": {
            "text/plain": [
              "Text(0.5, 1.0, 'Booking Type ')"
            ]
          },
          "metadata": {},
          "execution_count": 62
        },
        {
          "output_type": "display_data",
          "data": {
            "text/plain": [
              "<Figure size 432x288 with 1 Axes>"
            ],
            "image/png": "[encoded data removed]"
          },
          "metadata": {}
        }
      ],
      "source": [
        "x = df.no_of_adults\n",
        "y = df.market_segment_type\n",
        "sns.countplot(x=x, hue = y,\n",
        "palette = 'Set1')\n",
        "plt.legend(loc=2)\n",
        "plt.xlabel('No of adults')\n",
        "plt.ylabel('Bookings done')\n",
        "plt.title(\"Booking Type \", fontname=\"Times New Roman\", size=20,fontweight=\"bold\")"
      ]
    },
    {
      "cell_type": "markdown",
      "source": [
        "Most of booking in done via online methord for 2 people and least amount of booking is done  Aviation."
      ],
      "metadata": {
        "id": "YNPaTQMZPa2E"
      }
    },
    {
      "cell_type": "markdown",
      "metadata": {
        "id": "l7sCnpeP3ipS"
      },
      "source": [
        "## Asking and Answering Questions\n",
        "\n",
        "Now let us analyse some questions and further analyse them.\n",
        " \n"
      ]
    },
    {
      "cell_type": "markdown",
      "metadata": {
        "id": "Flafjzjq3ipS"
      },
      "source": [
        "#### Q1: Higest cost of the room ?"
      ]
    },
    {
      "cell_type": "code",
      "execution_count": null,
      "metadata": {
        "colab": {
          "base_uri": "https://localhost:8080/"
        },
        "id": "FxhFFIn93ipT",
        "outputId": "210e13b5-78f3-4496-de45-db6ab50c9fb6"
      },
      "outputs": [
        {
          "output_type": "stream",
          "name": "stdout",
          "text": [
            "540.0 euros\n"
          ]
        }
      ],
      "source": [
        "a = df[\"avg_price_per_room\"]\n",
        "print(a.max(), \"euros\") "
      ]
    },
    {
      "cell_type": "markdown",
      "source": [
        "540 is the highest cost of the room."
      ],
      "metadata": {
        "id": "OlzkYorleTjp"
      }
    },
    {
      "cell_type": "code",
      "execution_count": null,
      "metadata": {
        "id": "WA_sBwwK3ipT",
        "colab": {
          "base_uri": "https://localhost:8080/"
        },
        "outputId": "d8d48d4d-a831-4bfc-c9b1-a11890209429"
      },
      "outputs": [
        {
          "output_type": "execute_result",
          "data": {
            "text/plain": [
              "      Booking_ID  no_of_adults  no_of_children  no_of_weekend_nights  \\\n",
              "33114   INN33115             2               0                     0   \n",
              "\n",
              "       no_of_week_nights type_of_meal_plan  required_car_parking_space  \\\n",
              "33114                  1       Meal Plan 1                           0   \n",
              "\n",
              "      room_type_reserved  lead_time  arrival_year  arrival_month  \\\n",
              "33114        Room_Type 1         35          2018              3   \n",
              "\n",
              "       arrival_date market_segment_type  repeated_guest  \\\n",
              "33114            25             Offline               0   \n",
              "\n",
              "       no_of_previous_cancellations  no_of_previous_bookings_not_canceled  \\\n",
              "33114                             0                                     0   \n",
              "\n",
              "       avg_price_per_room  no_of_special_requests booking_status  family_size  \n",
              "33114               540.0                       0       Canceled            2  "
            ],
            "text/html": [
              "\n",
              "  <div id=\"df-af942c0e-d940-4218-9f75-8a38590f118f\">\n",
              "    <div class=\"colab-df-container\">\n",
              "      <div>\n",
              "<style scoped>\n",
              "    .dataframe tbody tr th:only-of-type {\n",
              "        vertical-align: middle;\n",
              "    }\n",
              "\n",
              "    .dataframe tbody tr th {\n",
              "        vertical-align: top;\n",
              "    }\n",
              "\n",
              "    .dataframe thead th {\n",
              "        text-align: right;\n",
              "    }\n",
              "</style>\n",
              "<table border=\"1\" class=\"dataframe\">\n",
              "  <thead>\n",
              "    <tr style=\"text-align: right;\">\n",
              "      <th></th>\n",
              "      <th>Booking_ID</th>\n",
              "      <th>no_of_adults</th>\n",
              "      <th>no_of_children</th>\n",
              "      <th>no_of_weekend_nights</th>\n",
              "      <th>no_of_week_nights</th>\n",
              "      <th>type_of_meal_plan</th>\n",
              "      <th>required_car_parking_space</th>\n",
              "      <th>room_type_reserved</th>\n",
              "      <th>lead_time</th>\n",
              "      <th>arrival_year</th>\n",
              "      <th>arrival_month</th>\n",
              "      <th>arrival_date</th>\n",
              "      <th>market_segment_type</th>\n",
              "      <th>repeated_guest</th>\n",
              "      <th>no_of_previous_cancellations</th>\n",
              "      <th>no_of_previous_bookings_not_canceled</th>\n",
              "      <th>avg_price_per_room</th>\n",
              "      <th>no_of_special_requests</th>\n",
              "      <th>booking_status</th>\n",
              "      <th>family_size</th>\n",
              "    </tr>\n",
              "  </thead>\n",
              "  <tbody>\n",
              "    <tr>\n",
              "      <th>33114</th>\n",
              "      <td>INN33115</td>\n",
              "      <td>2</td>\n",
              "      <td>0</td>\n",
              "      <td>0</td>\n",
              "      <td>1</td>\n",
              "      <td>Meal Plan 1</td>\n",
              "      <td>0</td>\n",
              "      <td>Room_Type 1</td>\n",
              "      <td>35</td>\n",
              "      <td>2018</td>\n",
              "      <td>3</td>\n",
              "      <td>25</td>\n",
              "      <td>Offline</td>\n",
              "      <td>0</td>\n",
              "      <td>0</td>\n",
              "      <td>0</td>\n",
              "      <td>540.0</td>\n",
              "      <td>0</td>\n",
              "      <td>Canceled</td>\n",
              "      <td>2</td>\n",
              "    </tr>\n",
              "  </tbody>\n",
              "</table>\n",
              "</div>\n",
              "      <button class=\"colab-df-convert\" onclick=\"convertToInteractive('df-af942c0e-d940-4218-9f75-8a38590f118f')\"\n",
              "              title=\"Convert this dataframe to an interactive table.\"\n",
              "              style=\"display:none;\">\n",
              "        \n",
              "  <svg xmlns=\"http://www.w3.org/2000/svg\" height=\"24px\"viewBox=\"0 0 24 24\"\n",
              "       width=\"24px\">\n",
              "    <path d=\"M0 0h24v24H0V0z\" fill=\"none\"/>\n",
              "    <path d=\"M18.56 5.44l.94 2.06.94-2.06 2.06-.94-2.06-.94-.94-2.06-.94 2.06-2.06.94zm-11 1L8.5 8.5l.94-2.06 2.06-.94-2.06-.94L8.5 2.5l-.94 2.06-2.06.94zm10 10l.94 2.06.94-2.06 2.06-.94-2.06-.94-.94-2.06-.94 2.06-2.06.94z\"/><path d=\"M17.41 7.96l-1.37-1.37c-.4-.4-.92-.59-1.43-.59-.52 0-1.04.2-1.43.59L10.3 9.45l-7.72 7.72c-.78.78-.78 2.05 0 2.83L4 21.41c.39.39.9.59 1.41.59.51 0 1.02-.2 1.41-.59l7.78-7.78 2.81-2.81c.8-.78.8-2.07 0-2.86zM5.41 20L4 18.59l7.72-7.72 1.47 1.35L5.41 20z\"/>\n",
              "  </svg>\n",
              "      </button>\n",
              "      \n",
              "  <style>\n",
              "    .colab-df-container {\n",
              "      display:flex;\n",
              "      flex-wrap:wrap;\n",
              "      gap: 12px;\n",
              "    }\n",
              "\n",
              "    .colab-df-convert {\n",
              "      background-color: #E8F0FE;\n",
              "      border: none;\n",
              "      border-radius: 50%;\n",
              "      cursor: pointer;\n",
              "      display: none;\n",
              "      fill: #1967D2;\n",
              "      height: 32px;\n",
              "      padding: 0 0 0 0;\n",
              "      width: 32px;\n",
              "    }\n",
              "\n",
              "    .colab-df-convert:hover {\n",
              "      background-color: #E2EBFA;\n",
              "      box-shadow: 0px 1px 2px rgba(60, 64, 67, 0.3), 0px 1px 3px 1px rgba(60, 64, 67, 0.15);\n",
              "      fill: #174EA6;\n",
              "    }\n",
              "\n",
              "    [theme=dark] .colab-df-convert {\n",
              "      background-color: #3B4455;\n",
              "      fill: #D2E3FC;\n",
              "    }\n",
              "\n",
              "    [theme=dark] .colab-df-convert:hover {\n",
              "      background-color: #434B5C;\n",
              "      box-shadow: 0px 1px 3px 1px rgba(0, 0, 0, 0.15);\n",
              "      filter: drop-shadow(0px 1px 2px rgba(0, 0, 0, 0.3));\n",
              "      fill: #FFFFFF;\n",
              "    }\n",
              "  </style>\n",
              "\n",
              "      <script>\n",
              "        const buttonEl =\n",
              "          document.querySelector('#df-af942c0e-d940-4218-9f75-8a38590f118f button.colab-df-convert');\n",
              "        buttonEl.style.display =\n",
              "          google.colab.kernel.accessAllowed ? 'block' : 'none';\n",
              "\n",
              "        async function convertToInteractive(key) {\n",
              "          const element = document.querySelector('#df-af942c0e-d940-4218-9f75-8a38590f118f');\n",
              "          const dataTable =\n",
              "            await google.colab.kernel.invokeFunction('convertToInteractive',\n",
              "                                                     [key], {});\n",
              "          if (!dataTable) return;\n",
              "\n",
              "          const docLinkHtml = 'Like what you see? Visit the ' +\n",
              "            '<a target=\"_blank\" href=https://colab.research.google.com/notebooks/data_table.ipynb>data table notebook</a>'\n",
              "            + ' to learn more about interactive tables.';\n",
              "          element.innerHTML = '';\n",
              "          dataTable['output_type'] = 'display_data';\n",
              "          await google.colab.output.renderOutput(dataTable, element);\n",
              "          const docLink = document.createElement('div');\n",
              "          docLink.innerHTML = docLinkHtml;\n",
              "          element.appendChild(docLink);\n",
              "        }\n",
              "      </script>\n",
              "    </div>\n",
              "  </div>\n",
              "  "
            ]
          },
          "metadata": {},
          "execution_count": 64
        }
      ],
      "source": [
        "df.loc[df.avg_price_per_room ==540]"
      ]
    },
    {
      "cell_type": "markdown",
      "source": [
        "Booking was done for room type 1, offlline for 30 days  for 2 adults"
      ],
      "metadata": {
        "id": "vykrsOgpfJIw"
      }
    },
    {
      "cell_type": "markdown",
      "metadata": {
        "id": "Sep0tucu3ipT"
      },
      "source": [
        "#### Q2:percent of people taking parking till now?"
      ]
    },
    {
      "cell_type": "code",
      "execution_count": null,
      "metadata": {
        "id": "5JaL6uX63ipT",
        "colab": {
          "base_uri": "https://localhost:8080/"
        },
        "outputId": "abc2571d-199c-4ad4-fa17-fe7394126bc3"
      },
      "outputs": [
        {
          "output_type": "execute_result",
          "data": {
            "text/plain": [
              "3.09855272226051"
            ]
          },
          "metadata": {},
          "execution_count": 65
        }
      ],
      "source": [
        "a = df[df['required_car_parking_space'] == 1].count()\n",
        "(a.required_car_parking_space/df.required_car_parking_space.count())*100"
      ]
    },
    {
      "cell_type": "markdown",
      "source": [
        "Less than 3% people ask for parking"
      ],
      "metadata": {
        "id": "Kj1E10ZOhDvi"
      }
    },
    {
      "cell_type": "markdown",
      "metadata": {
        "id": "NIwC-MQe3ipT"
      },
      "source": [
        "#### Q3: Which Year has the max income and by how much percent?"
      ]
    },
    {
      "cell_type": "code",
      "execution_count": null,
      "metadata": {
        "id": "hwkH57T93ipT",
        "colab": {
          "base_uri": "https://localhost:8080/"
        },
        "outputId": "c28727b3-e554-49d6-d60c-25539ee4be19"
      },
      "outputs": [
        {
          "output_type": "stream",
          "name": "stdout",
          "text": [
            "year 2017: 586441.73 \n",
            "year 2018: 3165247.15\n",
            "81.47 %\n"
          ]
        }
      ],
      "source": [
        "x =df[df['arrival_year'] == 2017]['avg_price_per_room'].sum()\n",
        "y =  df[df['arrival_year'] == 2018]['avg_price_per_room'].sum()\n",
        "print(\"year 2017:\",x,\"\\nyear 2018:\",y)\n",
        "z = ((y-x)/y*100)\n",
        "print('%.2f' % z,\"%\")"
      ]
    },
    {
      "cell_type": "markdown",
      "source": [
        "Year 2018 has more sales and sales have increased by 81.47%"
      ],
      "metadata": {
        "id": "gBV-STgWpSnZ"
      }
    },
    {
      "cell_type": "markdown",
      "metadata": {
        "id": "vz1gDVOJ3ipT"
      },
      "source": [
        "#### Q4:Average coming back percent?"
      ]
    },
    {
      "cell_type": "code",
      "execution_count": null,
      "metadata": {
        "id": "2Js-RYDE3ipU",
        "colab": {
          "base_uri": "https://localhost:8080/"
        },
        "outputId": "682457fa-19b4-47b0-ced9-015c8d16d18c"
      },
      "outputs": [
        {
          "output_type": "execute_result",
          "data": {
            "text/plain": [
              "2.563749138525155"
            ]
          },
          "metadata": {},
          "execution_count": 67
        }
      ],
      "source": [
        "a =df[df['repeated_guest']==1].count()\n",
        "b = df.repeated_guest.count()\n",
        "(a.repeated_guest/b)*100"
      ]
    },
    {
      "cell_type": "markdown",
      "source": [
        "coming back percent is about 2.5 %"
      ],
      "metadata": {
        "id": "s40-SJwEqg7W"
      }
    },
    {
      "cell_type": "markdown",
      "metadata": {
        "id": "fPDQU_i73ipU"
      },
      "source": [
        "#### Q5: Which Month has the most booking ?\n",
        "\n"
      ]
    },
    {
      "cell_type": "code",
      "execution_count": null,
      "metadata": {
        "id": "z7rawK_C3ipU",
        "colab": {
          "base_uri": "https://localhost:8080/"
        },
        "outputId": "7a0fb399-fa97-4e3d-8eee-671e38d103a8"
      },
      "outputs": [
        {
          "output_type": "execute_result",
          "data": {
            "text/plain": [
              "Text(0.5, 1.0, 'Price of room for each year')"
            ]
          },
          "metadata": {},
          "execution_count": 68
        },
        {
          "output_type": "display_data",
          "data": {
            "text/plain": [
              "<Figure size 432x288 with 1 Axes>"
            ],
            "image/png": "[encoded data removed]"
          },
          "metadata": {}
        }
      ],
      "source": [
        "a = pd.melt(df, id_vars =['arrival_month'], value_vars =['avg_price_per_room'])\n",
        "plt.barh(a.arrival_month,a.value,color =\"orange\")\n",
        "plt.xlabel('Avg price per room')\n",
        "plt.ylabel('Arrival month')\n",
        "plt.title(\"Price of room for each year\", fontname=\"Times New Roman\", size=20,fontweight=\"bold\")"
      ]
    },
    {
      "cell_type": "markdown",
      "source": [
        "We can see that rooms are most costly in the month of march with cost exceeding 500"
      ],
      "metadata": {
        "id": "PNFOvHlFq6ef"
      }
    },
    {
      "cell_type": "markdown",
      "metadata": {
        "id": "0Obv2mIV3ipZ"
      },
      "source": [
        "## Inferences and Conclusion\n",
        "\n",
        "We can state that many people comming to the hotel usually have family size of 2. Most booking come in the month of march as well as cost of rooms have also increased in one year with some suits having hike above 50%.Only about 3% of people have used the parking services.Meal type 1 has the highest demand.\n",
        "Most bookings are done online"
      ]
    },
    {
      "cell_type": "markdown",
      "metadata": {
        "id": "Ez1azdhn3ipZ"
      },
      "source": [
        "## References and Future Work\n",
        "\n",
        "Check out the following resources to learn more about the dataset and tools used in this notebook:\n",
        "\n",
        "\n",
        "\n",
        "\n",
        "*   Data set: https://www.kaggle.com/datasets/ahsan81/hotel-reservations-classification-dataset\n",
        "*   Pandas user guide: https://pandas.pydata.org/docs/user_guide/index.html\n",
        "*   Matplotlib user guide: https://matplotlib.org/3.3.1/users/index.html\n",
        "*   Seaborn user guide & tutorial: https://seaborn.pydata.org/tutorial.html\n",
        "*   opendatasets Python library: https://github.com/JovianML/opendatasets\n",
        "\n",
        "As a next step, I will try out a project on another dataset  from: featured data set from Jovian"
      ]
    },
    {
      "cell_type": "code",
      "source": [],
      "metadata": {
        "colab": {
          "base_uri": "https://localhost:8080/",
          "height": 130
        },
        "id": "sJsw5ZoibSui",
        "outputId": "35bde023-b983-41b8-b198-3fbde21a4626"
      },
      "execution_count": null,
      "outputs": [
        {
          "output_type": "error",
          "ename": "SyntaxError",
          "evalue": "ignored",
          "traceback": [
            "\u001b[0;36m  File \u001b[0;32m\"<ipython-input-3-5529492c4a0c>\"\u001b[0;36m, line \u001b[0;32m1\u001b[0m\n\u001b[0;31m    echo \"# Hotel-reservation-analysis\" >> README.md\u001b[0m\n\u001b[0m         ^\u001b[0m\n\u001b[0;31mSyntaxError\u001b[0m\u001b[0;31m:\u001b[0m invalid syntax\n"
          ]
        }
      ]
    }
  ],
  "metadata": {
    "kernelspec": {
      "display_name": "Python 3",
      "language": "python",
      "name": "python3"
    },
    "language_info": {
      "codemirror_mode": {
        "name": "ipython",
        "version": 3
      },
      "file_extension": ".py",
      "mimetype": "text/x-python",
      "name": "python",
      "nbconvert_exporter": "python",
      "pygments_lexer": "ipython3",
      "version": "3.8.5"
    },
    "colab": {
      "provenance": [],
      "collapsed_sections": [
        "Sep0tucu3ipT",
        "NIwC-MQe3ipT",
        "vz1gDVOJ3ipT"
      ]
    }
  },
  "nbformat": 4,
  "nbformat_minor": 0
}